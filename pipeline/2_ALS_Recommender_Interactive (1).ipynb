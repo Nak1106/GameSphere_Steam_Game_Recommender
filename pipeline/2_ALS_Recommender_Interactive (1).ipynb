{
 "cells": [
  {
   "cell_type": "markdown",
   "id": "79a3b4c6",
   "metadata": {},
   "source": [
    "# Step 2: ALS Game Recommendation\n",
    "This notebook filters clean data, prepares user/item indices, trains ALS, evaluates it, and saves recommendations."
   ]
  },
  {
   "cell_type": "code",
   "execution_count": 1,
   "id": "1e47d8a5",
   "metadata": {},
   "outputs": [],
   "source": [
    "\n",
    "from pyspark.sql import SparkSession\n",
    "from pyspark.sql.functions import col, mean, when\n",
    "from pyspark.ml.recommendation import ALS\n",
    "from pyspark.ml.feature import StringIndexer\n",
    "\n",
    "from pyspark.ml.evaluation import RegressionEvaluator\n"
   ]
  },
  {
   "cell_type": "code",
   "execution_count": 2,
   "id": "fc53c850",
   "metadata": {},
   "outputs": [],
   "source": [
    "import os\n",
    "os.environ[\"JAVA_HOME\"] = \"/opt/homebrew/opt/openjdk@11\"\n"
   ]
  },
  {
   "cell_type": "code",
   "execution_count": 3,
   "id": "15378b55",
   "metadata": {},
   "outputs": [
    {
     "name": "stderr",
     "output_type": "stream",
     "text": [
      "Setting default log level to \"WARN\".\n",
      "To adjust logging level use sc.setLogLevel(newLevel). For SparkR, use setLogLevel(newLevel).\n",
      "25/06/09 23:31:52 WARN NativeCodeLoader: Unable to load native-hadoop library for your platform... using builtin-java classes where applicable\n"
     ]
    }
   ],
   "source": [
    "from pyspark.sql import SparkSession\n",
    "\n",
    "spark = SparkSession.builder \\\n",
    "    .appName(\"ALS_Game_Recommender\") \\\n",
    "    .config(\"spark.hadoop.fs.defaultFS\", \"hdfs://localhost:9000\") \\\n",
    "    .config(\"spark.driver.bindAddress\", \"127.0.0.1\") \\\n",
    "    .config(\"spark.driver.memory\", \"12g\") \\\n",
    "    .config(\"spark.executor.memory\", \"12g\") \\\n",
    "    .config(\"spark.memory.offHeap.enabled\", \"true\") \\\n",
    "    .config(\"spark.memory.offHeap.size\", \"2g\") \\\n",
    "    .config(\"spark.sql.shuffle.partitions\", \"200\") \\\n",
    "    .getOrCreate()\n"
   ]
  },
  {
   "cell_type": "code",
   "execution_count": 4,
   "id": "ea080682",
   "metadata": {},
   "outputs": [],
   "source": [
    "# ✅ Extra memory-friendly configs\n",
    "spark.conf.set(\"spark.sql.execution.arrow.pyspark.enabled\", \"true\")\n",
    "spark.conf.set(\"spark.sql.autoBroadcastJoinThreshold\", -1)\n"
   ]
  },
  {
   "cell_type": "code",
   "execution_count": 5,
   "id": "65656a0a",
   "metadata": {},
   "outputs": [
    {
     "name": "stdout",
     "output_type": "stream",
     "text": [
      "root\n",
      " |-- _c0: string (nullable = true)\n",
      " |-- app_id: string (nullable = true)\n",
      " |-- app_name: string (nullable = true)\n",
      " |-- review_id: string (nullable = true)\n",
      " |-- language: string (nullable = true)\n",
      " |-- review: string (nullable = true)\n",
      " |-- timestamp_created: string (nullable = true)\n",
      " |-- timestamp_updated: string (nullable = true)\n",
      " |-- recommended: string (nullable = true)\n",
      " |-- votes_helpful: string (nullable = true)\n",
      " |-- votes_funny: string (nullable = true)\n",
      " |-- weighted_vote_score: string (nullable = true)\n",
      " |-- comment_count: string (nullable = true)\n",
      " |-- steam_purchase: string (nullable = true)\n",
      " |-- received_for_free: string (nullable = true)\n",
      " |-- written_during_early_access: string (nullable = true)\n",
      " |-- author_steamid: string (nullable = true)\n",
      " |-- author_num_games_owned: string (nullable = true)\n",
      " |-- author_num_reviews: string (nullable = true)\n",
      " |-- author_playtime_forever: string (nullable = true)\n",
      " |-- author_playtime_last_two_weeks: string (nullable = true)\n",
      " |-- author_playtime_at_review: string (nullable = true)\n",
      " |-- author_last_played: string (nullable = true)\n",
      " |-- cleaned_review: string (nullable = true)\n",
      "\n",
      "+--------+------+------------------+---------+--------+--------------------+-----------------+-----------------+-----------+-------------+-----------+-------------------+-------------+--------------+-----------------+---------------------------+-----------------+----------------------+------------------+-----------------------+------------------------------+-------------------------+------------------+--------------------+\n",
      "|     _c0|app_id|          app_name|review_id|language|              review|timestamp_created|timestamp_updated|recommended|votes_helpful|votes_funny|weighted_vote_score|comment_count|steam_purchase|received_for_free|written_during_early_access|   author_steamid|author_num_games_owned|author_num_reviews|author_playtime_forever|author_playtime_last_two_weeks|author_playtime_at_review|author_last_played|      cleaned_review|\n",
      "+--------+------+------------------+---------+--------+--------------------+-----------------+-----------------+-----------+-------------+-----------+-------------------+-------------+--------------+-----------------+---------------------------+-----------------+----------------------+------------------+-----------------------+------------------------------+-------------------------+------------------+--------------------+\n",
      "|18326283|476600|Call of Duty: WWII| 50028116| english| In a word.... Crap!|       1554719210|       1554719210|      False|            1|          0| 0.4710921049118042|            0|          True|            False|                      False|76561198078176526|                    64|                 1|                  175.0|                           0.0|                    175.0|      1554719124.0|      in a word crap|\n",
      "|18326285|476600|Call of Duty: WWII| 50025120| english|      Very good game|       1554700550|       1554700550|       True|            0|          0| 0.4710921049118042|            0|          True|             True|                      False|76561198950903504|                    10|                 1|                   13.0|                           0.0|                     13.0|      1554642530.0|      very good game|\n",
      "|18326286|476600|Call of Duty: WWII| 50021423| english|Even on sale at $...|       1554677829|       1554677829|      False|            3|          1| 0.4848009049892426|            0|          True|            False|                      False|76561198005303112|                    82|                 1|                  432.0|                           0.0|                    432.0|      1554676604.0|even on sale at  ...|\n",
      "|18326288|476600|Call of Duty: WWII| 50018964| english|So they say the c...|       1554667229|       1554667229|      False|            2|          0| 0.5032750964164733|            0|          True|            False|                      False|76561198132780163|                   175|                 2|                  416.0|                           0.0|                    400.0|      1554667430.0|so they say the c...|\n",
      "|18326296|476600|Call of Duty: WWII| 50016203| english|(I only played si...|       1554657076|       1554657076|      False|            2|          0| 0.5068492889404297|            0|          True|            False|                      False|76561198028247397|                   485|                19|                  367.0|                           0.0|                    217.0|      1602379267.0|i only played sin...|\n",
      "+--------+------+------------------+---------+--------+--------------------+-----------------+-----------------+-----------+-------------+-----------+-------------------+-------------+--------------+-----------------+---------------------------+-----------------+----------------------+------------------+-----------------------+------------------------------+-------------------------+------------------+--------------------+\n",
      "only showing top 5 rows\n",
      "\n"
     ]
    }
   ],
   "source": [
    "\n",
    "# ✅ Load cleaned reviews\n",
    "df = spark.read.parquet(\"hdfs:///project/processed/steam_review_english.parquet\")\n",
    "df.printSchema()\n",
    "df.show(5)\n"
   ]
  },
  {
   "cell_type": "code",
   "execution_count": 6,
   "id": "4d42e1eb",
   "metadata": {},
   "outputs": [],
   "source": [
    "from pyspark.sql.types import FloatType, IntegerType, BooleanType\n",
    "\n",
    "# ✅ Fix column types after loading the dataframe\n",
    "df = df.withColumn(\"author_playtime_forever\", col(\"author_playtime_forever\").cast(FloatType())) \\\n",
    "       .withColumn(\"author_playtime_at_review\", col(\"author_playtime_at_review\").cast(FloatType())) \\\n",
    "       .withColumn(\"author_playtime_last_two_weeks\", col(\"author_playtime_last_two_weeks\").cast(FloatType())) \\\n",
    "       .withColumn(\"recommended\", when(col(\"recommended\") == \"True\", True).otherwise(False)) \\\n",
    "       .withColumn(\"votes_helpful\", col(\"votes_helpful\").cast(IntegerType())) \\\n",
    "       .withColumn(\"votes_funny\", col(\"votes_funny\").cast(IntegerType())) \\\n",
    "       .withColumn(\"author_num_games_owned\", col(\"author_num_games_owned\").cast(IntegerType())) \\\n",
    "       .withColumn(\"author_num_reviews\", col(\"author_num_reviews\").cast(IntegerType()))\n"
   ]
  },
  {
   "cell_type": "code",
   "execution_count": 7,
   "id": "229714da",
   "metadata": {},
   "outputs": [],
   "source": [
    "\n",
    "# ✅ Select relevant columns\n",
    "data_rec = df.select(\"app_id\", \"app_name\", \"review_id\", \"language\", \"author_steamid\",\n",
    "                     \"timestamp_created\", \"author_playtime_forever\", \"recommended\")\n"
   ]
  },
  {
   "cell_type": "code",
   "execution_count": 8,
   "id": "6c2596e0",
   "metadata": {},
   "outputs": [],
   "source": [
    "\n",
    "# ✅ Filter games with at least 200 reviews\n",
    "app_counts = data_rec.groupBy(\"app_name\").count()\n",
    "popular_apps = app_counts.filter(col(\"count\") >= 200)\n",
    "data_rec = data_rec.join(popular_apps, on=\"app_name\", how=\"inner\")\n"
   ]
  },
  {
   "cell_type": "code",
   "execution_count": 9,
   "id": "abbd563b",
   "metadata": {},
   "outputs": [
    {
     "name": "stderr",
     "output_type": "stream",
     "text": [
      "                                                                                \r"
     ]
    }
   ],
   "source": [
    "\n",
    "# ✅ Remove outliers based on playtime\n",
    "def remove_outliers(df, column):\n",
    "    q1, q3 = df.approxQuantile(column, [0.25, 0.75], 0.01)\n",
    "    iqr = q3 - q1\n",
    "    lower_limit = q1 - 2 * iqr\n",
    "    upper_limit = q3 + 2 * iqr\n",
    "    return df.filter((col(column) >= lower_limit) & (col(column) <= upper_limit))\n",
    "\n",
    "data_rec = remove_outliers(data_rec, \"author_playtime_forever\")\n"
   ]
  },
  {
   "cell_type": "code",
   "execution_count": 10,
   "id": "441f5bd4",
   "metadata": {},
   "outputs": [
    {
     "name": "stderr",
     "output_type": "stream",
     "text": [
      "                                                                                \r"
     ]
    }
   ],
   "source": [
    "\n",
    "# ✅ Identify power users based on playtime\n",
    "mean_playtime = data_rec.agg(mean(\"author_playtime_forever\").alias(\"mean\")).collect()[0][\"mean\"]\n",
    "power_users = data_rec.filter(col(\"author_playtime_forever\") >= 5 * mean_playtime)\n",
    "power_users = power_users.filter(col(\"author_steamid\") >= 76560000000000000)\n"
   ]
  },
  {
   "cell_type": "code",
   "execution_count": 11,
   "id": "03ddc4ed",
   "metadata": {},
   "outputs": [],
   "source": [
    "\n",
    "# ✅ Prepare ALS training data\n",
    "als_data = power_users.select(\"author_steamid\", \"app_id\", \"app_name\", \"recommended\")\n"
   ]
  },
  {
   "cell_type": "code",
   "execution_count": 14,
   "id": "63b51433",
   "metadata": {},
   "outputs": [],
   "source": [
    "from pyspark.sql.window import Window\n",
    "from pyspark.sql.functions import row_number\n",
    "\n",
    "# ✅ Generate unique author_index\n",
    "author_ids = als_data.select(\"author_steamid\").distinct()\n",
    "author_ids = author_ids.withColumn(\"author_index\", row_number().over(Window.orderBy(\"author_steamid\")) - 1)\n",
    "\n",
    "# ✅ Generate unique app_index\n",
    "app_ids = als_data.select(\"app_name\").distinct()\n",
    "app_ids = app_ids.withColumn(\"app_index\", row_number().over(Window.orderBy(\"app_name\")) - 1)\n",
    "\n",
    "# ✅ Join back into ALS data\n",
    "als_data = als_data.join(author_ids, on=\"author_steamid\", how=\"inner\")\n",
    "als_data = als_data.join(app_ids, on=\"app_name\", how=\"inner\")\n"
   ]
  },
  {
   "cell_type": "code",
   "execution_count": 15,
   "id": "07e6b2d2",
   "metadata": {},
   "outputs": [],
   "source": [
    "\n",
    "# ✅ Convert recommended → rating (True = 5, False = 1)\n",
    "als_data = als_data.withColumn(\"rating\", when(col(\"recommended\") == True, 5).otherwise(1))\n"
   ]
  },
  {
   "cell_type": "code",
   "execution_count": 16,
   "id": "58db5f30",
   "metadata": {},
   "outputs": [],
   "source": [
    "\n",
    "# ✅ Split into train/test\n",
    "(train, test) = als_data.randomSplit([0.8, 0.2], seed=42)\n"
   ]
  },
  {
   "cell_type": "code",
   "execution_count": 17,
   "id": "1e1b467d",
   "metadata": {},
   "outputs": [
    {
     "name": "stderr",
     "output_type": "stream",
     "text": [
      "25/06/09 23:36:43 WARN WindowExec: No Partition Defined for Window operation! Moving all data to a single partition, this can cause serious performance degradation.\n",
      "25/06/09 23:36:43 WARN WindowExec: No Partition Defined for Window operation! Moving all data to a single partition, this can cause serious performance degradation.\n",
      "25/06/09 23:36:43 WARN WindowExec: No Partition Defined for Window operation! Moving all data to a single partition, this can cause serious performance degradation.\n",
      "25/06/09 23:36:43 WARN WindowExec: No Partition Defined for Window operation! Moving all data to a single partition, this can cause serious performance degradation.\n",
      "25/06/09 23:36:45 WARN WindowExec: No Partition Defined for Window operation! Moving all data to a single partition, this can cause serious performance degradation.\n",
      "25/06/09 23:36:45 WARN WindowExec: No Partition Defined for Window operation! Moving all data to a single partition, this can cause serious performance degradation.\n",
      "25/06/09 23:36:45 WARN WindowExec: No Partition Defined for Window operation! Moving all data to a single partition, this can cause serious performance degradation.\n",
      "25/06/09 23:36:45 WARN WindowExec: No Partition Defined for Window operation! Moving all data to a single partition, this can cause serious performance degradation.\n",
      "25/06/09 23:36:45 WARN WindowExec: No Partition Defined for Window operation! Moving all data to a single partition, this can cause serious performance degradation.\n",
      "25/06/09 23:36:45 WARN WindowExec: No Partition Defined for Window operation! Moving all data to a single partition, this can cause serious performance degradation.\n",
      "25/06/09 23:36:45 WARN WindowExec: No Partition Defined for Window operation! Moving all data to a single partition, this can cause serious performance degradation.\n",
      "25/06/09 23:36:45 WARN WindowExec: No Partition Defined for Window operation! Moving all data to a single partition, this can cause serious performance degradation.\n",
      "25/06/09 23:36:45 WARN WindowExec: No Partition Defined for Window operation! Moving all data to a single partition, this can cause serious performance degradation.\n",
      "25/06/09 23:36:45 WARN WindowExec: No Partition Defined for Window operation! Moving all data to a single partition, this can cause serious performance degradation.\n",
      "25/06/09 23:36:45 WARN WindowExec: No Partition Defined for Window operation! Moving all data to a single partition, this can cause serious performance degradation.\n",
      "25/06/09 23:36:45 WARN WindowExec: No Partition Defined for Window operation! Moving all data to a single partition, this can cause serious performance degradation.\n",
      "25/06/09 23:36:46 WARN WindowExec: No Partition Defined for Window operation! Moving all data to a single partition, this can cause serious performance degradation.\n",
      "25/06/09 23:36:46 WARN WindowExec: No Partition Defined for Window operation! Moving all data to a single partition, this can cause serious performance degradation.\n",
      "25/06/09 23:36:46 WARN WindowExec: No Partition Defined for Window operation! Moving all data to a single partition, this can cause serious performance degradation.\n",
      "25/06/09 23:36:46 WARN WindowExec: No Partition Defined for Window operation! Moving all data to a single partition, this can cause serious performance degradation.\n",
      "25/06/09 23:36:46 WARN WindowExec: No Partition Defined for Window operation! Moving all data to a single partition, this can cause serious performance degradation.\n",
      "25/06/09 23:36:46 WARN WindowExec: No Partition Defined for Window operation! Moving all data to a single partition, this can cause serious performance degradation.\n",
      "25/06/09 23:36:46 WARN WindowExec: No Partition Defined for Window operation! Moving all data to a single partition, this can cause serious performance degradation.\n",
      "25/06/09 23:36:46 WARN WindowExec: No Partition Defined for Window operation! Moving all data to a single partition, this can cause serious performance degradation.\n",
      "25/06/09 23:36:46 WARN WindowExec: No Partition Defined for Window operation! Moving all data to a single partition, this can cause serious performance degradation.\n",
      "25/06/09 23:36:46 WARN WindowExec: No Partition Defined for Window operation! Moving all data to a single partition, this can cause serious performance degradation.\n",
      "25/06/09 23:36:46 WARN WindowExec: No Partition Defined for Window operation! Moving all data to a single partition, this can cause serious performance degradation.\n",
      "25/06/09 23:36:46 WARN WindowExec: No Partition Defined for Window operation! Moving all data to a single partition, this can cause serious performance degradation.\n",
      "25/06/09 23:36:46 WARN WindowExec: No Partition Defined for Window operation! Moving all data to a single partition, this can cause serious performance degradation.\n",
      "25/06/09 23:36:46 WARN WindowExec: No Partition Defined for Window operation! Moving all data to a single partition, this can cause serious performance degradation.\n",
      "25/06/09 23:36:46 WARN WindowExec: No Partition Defined for Window operation! Moving all data to a single partition, this can cause serious performance degradation.\n",
      "25/06/09 23:36:46 WARN WindowExec: No Partition Defined for Window operation! Moving all data to a single partition, this can cause serious performance degradation.\n",
      "25/06/09 23:36:46 WARN WindowExec: No Partition Defined for Window operation! Moving all data to a single partition, this can cause serious performance degradation.\n",
      "25/06/09 23:36:46 WARN WindowExec: No Partition Defined for Window operation! Moving all data to a single partition, this can cause serious performance degradation.\n",
      "25/06/09 23:36:46 WARN WindowExec: No Partition Defined for Window operation! Moving all data to a single partition, this can cause serious performance degradation.\n",
      "25/06/09 23:36:46 WARN WindowExec: No Partition Defined for Window operation! Moving all data to a single partition, this can cause serious performance degradation.\n",
      "25/06/09 23:36:46 WARN WindowExec: No Partition Defined for Window operation! Moving all data to a single partition, this can cause serious performance degradation.\n",
      "25/06/09 23:36:46 WARN WindowExec: No Partition Defined for Window operation! Moving all data to a single partition, this can cause serious performance degradation.\n",
      "25/06/09 23:36:47 WARN WindowExec: No Partition Defined for Window operation! Moving all data to a single partition, this can cause serious performance degradation.\n",
      "25/06/09 23:36:47 WARN WindowExec: No Partition Defined for Window operation! Moving all data to a single partition, this can cause serious performance degradation.\n",
      "25/06/09 23:36:47 WARN WindowExec: No Partition Defined for Window operation! Moving all data to a single partition, this can cause serious performance degradation.\n",
      "25/06/09 23:36:47 WARN WindowExec: No Partition Defined for Window operation! Moving all data to a single partition, this can cause serious performance degradation.\n",
      "25/06/09 23:36:48 WARN WindowExec: No Partition Defined for Window operation! Moving all data to a single partition, this can cause serious performance degradation.\n",
      "25/06/09 23:36:48 WARN WindowExec: No Partition Defined for Window operation! Moving all data to a single partition, this can cause serious performance degradation.\n",
      "25/06/09 23:36:48 WARN WindowExec: No Partition Defined for Window operation! Moving all data to a single partition, this can cause serious performance degradation.\n",
      "25/06/09 23:36:48 WARN WindowExec: No Partition Defined for Window operation! Moving all data to a single partition, this can cause serious performance degradation.\n",
      "25/06/09 23:36:48 WARN WindowExec: No Partition Defined for Window operation! Moving all data to a single partition, this can cause serious performance degradation.\n",
      "25/06/09 23:36:48 WARN WindowExec: No Partition Defined for Window operation! Moving all data to a single partition, this can cause serious performance degradation.\n",
      "25/06/09 23:36:48 WARN WindowExec: No Partition Defined for Window operation! Moving all data to a single partition, this can cause serious performance degradation.\n",
      "25/06/09 23:36:48 WARN WindowExec: No Partition Defined for Window operation! Moving all data to a single partition, this can cause serious performance degradation.\n",
      "25/06/09 23:36:48 WARN WindowExec: No Partition Defined for Window operation! Moving all data to a single partition, this can cause serious performance degradation.\n",
      "25/06/09 23:36:48 WARN WindowExec: No Partition Defined for Window operation! Moving all data to a single partition, this can cause serious performance degradation.\n",
      "25/06/09 23:36:48 WARN WindowExec: No Partition Defined for Window operation! Moving all data to a single partition, this can cause serious performance degradation.\n",
      "25/06/09 23:36:48 WARN WindowExec: No Partition Defined for Window operation! Moving all data to a single partition, this can cause serious performance degradation.\n",
      "25/06/09 23:36:48 WARN WindowExec: No Partition Defined for Window operation! Moving all data to a single partition, this can cause serious performance degradation.\n",
      "25/06/09 23:36:48 WARN WindowExec: No Partition Defined for Window operation! Moving all data to a single partition, this can cause serious performance degradation.\n",
      "25/06/09 23:36:48 WARN WindowExec: No Partition Defined for Window operation! Moving all data to a single partition, this can cause serious performance degradation.\n",
      "25/06/09 23:36:48 WARN WindowExec: No Partition Defined for Window operation! Moving all data to a single partition, this can cause serious performance degradation.\n",
      "25/06/09 23:36:48 WARN WindowExec: No Partition Defined for Window operation! Moving all data to a single partition, this can cause serious performance degradation.\n",
      "25/06/09 23:36:48 WARN WindowExec: No Partition Defined for Window operation! Moving all data to a single partition, this can cause serious performance degradation.\n",
      "25/06/09 23:36:48 WARN WindowExec: No Partition Defined for Window operation! Moving all data to a single partition, this can cause serious performance degradation.\n",
      "25/06/09 23:36:48 WARN WindowExec: No Partition Defined for Window operation! Moving all data to a single partition, this can cause serious performance degradation.\n",
      "25/06/09 23:36:48 WARN WindowExec: No Partition Defined for Window operation! Moving all data to a single partition, this can cause serious performance degradation.\n",
      "25/06/09 23:36:48 WARN WindowExec: No Partition Defined for Window operation! Moving all data to a single partition, this can cause serious performance degradation.\n",
      "25/06/09 23:36:48 WARN WindowExec: No Partition Defined for Window operation! Moving all data to a single partition, this can cause serious performance degradation.\n",
      "25/06/09 23:36:48 WARN WindowExec: No Partition Defined for Window operation! Moving all data to a single partition, this can cause serious performance degradation.\n",
      "25/06/09 23:36:48 WARN WindowExec: No Partition Defined for Window operation! Moving all data to a single partition, this can cause serious performance degradation.\n",
      "25/06/09 23:36:48 WARN WindowExec: No Partition Defined for Window operation! Moving all data to a single partition, this can cause serious performance degradation.\n",
      "25/06/09 23:36:48 WARN WindowExec: No Partition Defined for Window operation! Moving all data to a single partition, this can cause serious performance degradation.\n",
      "25/06/09 23:36:48 WARN WindowExec: No Partition Defined for Window operation! Moving all data to a single partition, this can cause serious performance degradation.\n",
      "25/06/09 23:36:48 WARN WindowExec: No Partition Defined for Window operation! Moving all data to a single partition, this can cause serious performance degradation.\n",
      "25/06/09 23:36:48 WARN WindowExec: No Partition Defined for Window operation! Moving all data to a single partition, this can cause serious performance degradation.\n",
      "25/06/09 23:36:50 WARN InstanceBuilder: Failed to load implementation from:dev.ludovic.netlib.blas.JNIBLAS\n"
     ]
    }
   ],
   "source": [
    "\n",
    "# ✅ Train ALS Model\n",
    "als = ALS(\n",
    "    userCol=\"author_index\",\n",
    "    itemCol=\"app_index\",\n",
    "    ratingCol=\"rating\",\n",
    "    rank=15,\n",
    "    maxIter=10,\n",
    "    regParam=0.1,\n",
    "    coldStartStrategy=\"drop\",\n",
    "    nonnegative=True\n",
    ")\n",
    "\n",
    "model = als.fit(train)\n"
   ]
  },
  {
   "cell_type": "code",
   "execution_count": 18,
   "id": "5750cb51",
   "metadata": {},
   "outputs": [
    {
     "name": "stderr",
     "output_type": "stream",
     "text": [
      "25/06/09 23:36:53 WARN WindowExec: No Partition Defined for Window operation! Moving all data to a single partition, this can cause serious performance degradation.\n",
      "25/06/09 23:36:53 WARN WindowExec: No Partition Defined for Window operation! Moving all data to a single partition, this can cause serious performance degradation.\n",
      "25/06/09 23:36:53 WARN WindowExec: No Partition Defined for Window operation! Moving all data to a single partition, this can cause serious performance degradation.\n",
      "25/06/09 23:36:53 WARN WindowExec: No Partition Defined for Window operation! Moving all data to a single partition, this can cause serious performance degradation.\n",
      "25/06/09 23:36:53 WARN WindowExec: No Partition Defined for Window operation! Moving all data to a single partition, this can cause serious performance degradation.\n",
      "25/06/09 23:36:53 WARN WindowExec: No Partition Defined for Window operation! Moving all data to a single partition, this can cause serious performance degradation.\n",
      "25/06/09 23:36:53 WARN WindowExec: No Partition Defined for Window operation! Moving all data to a single partition, this can cause serious performance degradation.\n",
      "25/06/09 23:36:53 WARN WindowExec: No Partition Defined for Window operation! Moving all data to a single partition, this can cause serious performance degradation.\n",
      "25/06/09 23:36:54 WARN WindowExec: No Partition Defined for Window operation! Moving all data to a single partition, this can cause serious performance degradation.\n",
      "25/06/09 23:36:54 WARN WindowExec: No Partition Defined for Window operation! Moving all data to a single partition, this can cause serious performance degradation.\n",
      "25/06/09 23:36:54 WARN WindowExec: No Partition Defined for Window operation! Moving all data to a single partition, this can cause serious performance degradation.\n",
      "25/06/09 23:36:54 WARN WindowExec: No Partition Defined for Window operation! Moving all data to a single partition, this can cause serious performance degradation.\n",
      "25/06/09 23:36:54 WARN WindowExec: No Partition Defined for Window operation! Moving all data to a single partition, this can cause serious performance degradation.\n",
      "25/06/09 23:36:54 WARN WindowExec: No Partition Defined for Window operation! Moving all data to a single partition, this can cause serious performance degradation.\n",
      "25/06/09 23:36:54 WARN WindowExec: No Partition Defined for Window operation! Moving all data to a single partition, this can cause serious performance degradation.\n",
      "25/06/09 23:36:54 WARN WindowExec: No Partition Defined for Window operation! Moving all data to a single partition, this can cause serious performance degradation.\n",
      "25/06/09 23:36:55 WARN WindowExec: No Partition Defined for Window operation! Moving all data to a single partition, this can cause serious performance degradation.\n",
      "25/06/09 23:36:55 WARN WindowExec: No Partition Defined for Window operation! Moving all data to a single partition, this can cause serious performance degradation.\n",
      "25/06/09 23:36:55 WARN WindowExec: No Partition Defined for Window operation! Moving all data to a single partition, this can cause serious performance degradation.\n",
      "25/06/09 23:36:55 WARN WindowExec: No Partition Defined for Window operation! Moving all data to a single partition, this can cause serious performance degradation.\n",
      "25/06/09 23:36:55 WARN WindowExec: No Partition Defined for Window operation! Moving all data to a single partition, this can cause serious performance degradation.\n",
      "25/06/09 23:36:55 WARN WindowExec: No Partition Defined for Window operation! Moving all data to a single partition, this can cause serious performance degradation.\n",
      "25/06/09 23:36:55 WARN WindowExec: No Partition Defined for Window operation! Moving all data to a single partition, this can cause serious performance degradation.\n",
      "25/06/09 23:36:55 WARN WindowExec: No Partition Defined for Window operation! Moving all data to a single partition, this can cause serious performance degradation.\n",
      "25/06/09 23:36:55 WARN WindowExec: No Partition Defined for Window operation! Moving all data to a single partition, this can cause serious performance degradation.\n",
      "25/06/09 23:36:55 WARN WindowExec: No Partition Defined for Window operation! Moving all data to a single partition, this can cause serious performance degradation.\n",
      "25/06/09 23:36:55 WARN WindowExec: No Partition Defined for Window operation! Moving all data to a single partition, this can cause serious performance degradation.\n",
      "25/06/09 23:36:55 WARN WindowExec: No Partition Defined for Window operation! Moving all data to a single partition, this can cause serious performance degradation.\n",
      "25/06/09 23:36:55 WARN WindowExec: No Partition Defined for Window operation! Moving all data to a single partition, this can cause serious performance degradation.\n",
      "25/06/09 23:36:55 WARN WindowExec: No Partition Defined for Window operation! Moving all data to a single partition, this can cause serious performance degradation.\n",
      "25/06/09 23:36:55 WARN WindowExec: No Partition Defined for Window operation! Moving all data to a single partition, this can cause serious performance degradation.\n",
      "25/06/09 23:36:55 WARN WindowExec: No Partition Defined for Window operation! Moving all data to a single partition, this can cause serious performance degradation.\n",
      "25/06/09 23:36:55 WARN WindowExec: No Partition Defined for Window operation! Moving all data to a single partition, this can cause serious performance degradation.\n",
      "25/06/09 23:36:55 WARN WindowExec: No Partition Defined for Window operation! Moving all data to a single partition, this can cause serious performance degradation.\n",
      "25/06/09 23:36:55 WARN WindowExec: No Partition Defined for Window operation! Moving all data to a single partition, this can cause serious performance degradation.\n",
      "25/06/09 23:36:55 WARN WindowExec: No Partition Defined for Window operation! Moving all data to a single partition, this can cause serious performance degradation.\n",
      "25/06/09 23:36:55 WARN WindowExec: No Partition Defined for Window operation! Moving all data to a single partition, this can cause serious performance degradation.\n",
      "25/06/09 23:36:55 WARN WindowExec: No Partition Defined for Window operation! Moving all data to a single partition, this can cause serious performance degradation.\n",
      "25/06/09 23:36:55 WARN WindowExec: No Partition Defined for Window operation! Moving all data to a single partition, this can cause serious performance degradation.\n",
      "25/06/09 23:36:55 WARN WindowExec: No Partition Defined for Window operation! Moving all data to a single partition, this can cause serious performance degradation.\n"
     ]
    },
    {
     "name": "stdout",
     "output_type": "stream",
     "text": [
      "✅ ALS RMSE: 2.4438\n"
     ]
    },
    {
     "name": "stderr",
     "output_type": "stream",
     "text": [
      "                                                                                \r"
     ]
    }
   ],
   "source": [
    "\n",
    "# ✅ Evaluate ALS with RMSE\n",
    "predictions = model.transform(test)\n",
    "evaluator = RegressionEvaluator(metricName=\"rmse\", labelCol=\"rating\", predictionCol=\"prediction\")\n",
    "rmse = evaluator.evaluate(predictions)\n",
    "print(f\"✅ ALS RMSE: {rmse:.4f}\")\n"
   ]
  },
  {
   "cell_type": "code",
   "execution_count": 19,
   "id": "75867584",
   "metadata": {},
   "outputs": [],
   "source": [
    "\n",
    "# ✅ Generate recommendations\n",
    "user_recs = model.recommendForAllUsers(5)\n"
   ]
  },
  {
   "cell_type": "code",
   "execution_count": 20,
   "id": "707010f5",
   "metadata": {},
   "outputs": [
    {
     "name": "stderr",
     "output_type": "stream",
     "text": [
      "[Stage 458:============================>                           (5 + 5) / 10]\r"
     ]
    },
    {
     "name": "stdout",
     "output_type": "stream",
     "text": [
      "✅ Recommendations saved to: hdfs:///project/outputs/app_recommendations.parquet\n"
     ]
    },
    {
     "name": "stderr",
     "output_type": "stream",
     "text": [
      "                                                                                \r"
     ]
    }
   ],
   "source": [
    "\n",
    "# ✅ Save to HDFS\n",
    "output_path = \"hdfs:///project/outputs/app_recommendations.parquet\"\n",
    "user_recs.write.mode(\"overwrite\").parquet(output_path)\n",
    "print(\"✅ Recommendations saved to:\", output_path)\n"
   ]
  },
  {
   "cell_type": "code",
   "execution_count": null,
   "id": "a4a4766d",
   "metadata": {},
   "outputs": [],
   "source": []
  }
 ],
 "metadata": {
  "kernelspec": {
   "display_name": "venv",
   "language": "python",
   "name": "python3"
  },
  "language_info": {
   "codemirror_mode": {
    "name": "ipython",
    "version": 3
   },
   "file_extension": ".py",
   "mimetype": "text/x-python",
   "name": "python",
   "nbconvert_exporter": "python",
   "pygments_lexer": "ipython3",
   "version": "3.10.18"
  }
 },
 "nbformat": 4,
 "nbformat_minor": 5
}
